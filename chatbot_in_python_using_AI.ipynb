{
  "nbformat": 4,
  "nbformat_minor": 0,
  "metadata": {
    "colab": {
      "provenance": [],
      "authorship_tag": "ABX9TyOQp0IINbGLE0NhD+2Ps/Cp",
      "include_colab_link": true
    },
    "kernelspec": {
      "name": "python3",
      "display_name": "Python 3"
    },
    "language_info": {
      "name": "python"
    }
  },
  "cells": [
    {
      "cell_type": "markdown",
      "metadata": {
        "id": "view-in-github",
        "colab_type": "text"
      },
      "source": [
        "<a href=\"https://colab.research.google.com/github/Venkatnvs/google-colab/blob/main/chatbot_in_python_using_AI.ipynb\" target=\"_parent\"><img src=\"https://colab.research.google.com/assets/colab-badge.svg\" alt=\"Open In Colab\"/></a>"
      ]
    },
    {
      "cell_type": "code",
      "source": [
        "import numpy as np\n",
        "import nltk\n",
        "import string\n",
        "import random"
      ],
      "metadata": {
        "id": "H4OdEq1rkm3l"
      },
      "execution_count": 2,
      "outputs": []
    },
    {
      "cell_type": "code",
      "source": [
        "f = open(\"chatbot.txt\",'r',errors='ignore')\n",
        "raw_doc = f.read()\n",
        "raw_doc=raw_doc.lower()\n",
        "nltk.download('punkt')\n",
        "nltk.download('omw-1.4')\n",
        "nltk.download('wordnet')\n",
        "sent_tokens = nltk.sent_tokenize(raw_doc)\n",
        "word_tokens = nltk.word_tokenize(raw_doc)"
      ],
      "metadata": {
        "colab": {
          "base_uri": "https://localhost:8080/"
        },
        "id": "xNmUfBvKmEda",
        "outputId": "d5c61156-95cd-4faa-f3ff-8eb7a209e96e"
      },
      "execution_count": 16,
      "outputs": [
        {
          "output_type": "stream",
          "name": "stderr",
          "text": [
            "[nltk_data] Downloading package punkt to /root/nltk_data...\n",
            "[nltk_data]   Package punkt is already up-to-date!\n",
            "[nltk_data] Downloading package omw-1.4 to /root/nltk_data...\n",
            "[nltk_data] Downloading package wordnet to /root/nltk_data...\n",
            "[nltk_data]   Package wordnet is already up-to-date!\n"
          ]
        }
      ]
    },
    {
      "cell_type": "code",
      "source": [
        "sent_tokens[:2]"
      ],
      "metadata": {
        "colab": {
          "base_uri": "https://localhost:8080/"
        },
        "id": "vjQmAAFHoiPd",
        "outputId": "1b44b948-5b4a-4ed1-d768-6287481d6eec"
      },
      "execution_count": 7,
      "outputs": [
        {
          "output_type": "execute_result",
          "data": {
            "text/plain": [
              "['artificial intelligence (ai) is intelligence—perceiving, synthesizing, and inferring information—demonstrated by machines, as opposed to intelligence displayed by non-human animals and humans.',\n",
              " 'example tasks in which this is done include speech recognition, computer vision, translation between (natural) languages, as well as other mappings of inputs.']"
            ]
          },
          "metadata": {},
          "execution_count": 7
        }
      ]
    },
    {
      "cell_type": "code",
      "source": [
        "word_tokens[:2]"
      ],
      "metadata": {
        "colab": {
          "base_uri": "https://localhost:8080/"
        },
        "id": "8vtUKLdIo07P",
        "outputId": "a56749b0-b226-494c-9be4-737e123cac47"
      },
      "execution_count": 8,
      "outputs": [
        {
          "output_type": "execute_result",
          "data": {
            "text/plain": [
              "['artificial', 'intelligence']"
            ]
          },
          "metadata": {},
          "execution_count": 8
        }
      ]
    },
    {
      "cell_type": "code",
      "source": [
        "lemmer = nltk.stem.WordNetLemmatizer()\n",
        "def LemTokens(tokens):\n",
        "  return [lemmer.lemmatize(token) for token in tokens]\n",
        "rem_punch_dic = dict((ord(punct),None) for punct in string.punctuation)\n",
        "def LemNorm(text):\n",
        "  return LemTokens(nltk.word_tokenize(text.lower().translate(rem_punch_dic)))"
      ],
      "metadata": {
        "id": "xizBrhyqo-1q"
      },
      "execution_count": 9,
      "outputs": []
    },
    {
      "cell_type": "code",
      "source": [
        "Greet_input = (\"hello\", \"hi\", \"greetings\",\"sup\",\"what's up\",\"hey\")\n",
        "Greet_repo = [\"hi\",\"hey\",\"hi there\",\"hello\",\"I am glad! you are talking to me\"]\n",
        "def greet(sentence):\n",
        "  for word in sentence.split():\n",
        "    if word.lower() in Greet_input:\n",
        "      return random.choice(Greet_repo)"
      ],
      "metadata": {
        "id": "RByUhzJgqRBc"
      },
      "execution_count": 11,
      "outputs": []
    },
    {
      "cell_type": "code",
      "source": [
        "from sklearn.feature_extraction.text import TfidfVectorizer\n",
        "from sklearn.metrics.pairwise import cosine_similarity"
      ],
      "metadata": {
        "id": "nBwGSFe-rPa6"
      },
      "execution_count": 12,
      "outputs": []
    },
    {
      "cell_type": "code",
      "source": [
        "def response(user_resp):\n",
        "  robo1_response = \"\"\n",
        "  TfidVe = TfidfVectorizer(tokenizer=LemNorm, stop_words='english')\n",
        "  tfdf = TfidVe.fit_transform(sent_tokens)\n",
        "  vals = cosine_similarity(tfdf[-1],tfdf)\n",
        "  idx = vals.argsort()[0][-2]\n",
        "  flat = vals.flatten()\n",
        "  flat.sort()\n",
        "  req_tfdf = flat[-2]\n",
        "  if(req_tfdf==0):\n",
        "    robo1_response+=\"I am sorry! I don't understand you\"\n",
        "    return robo1_response\n",
        "  else:\n",
        "    robo1_response+=sent_tokens[idx]\n",
        "    return robo1_response"
      ],
      "metadata": {
        "id": "Lqma1cSzruR8"
      },
      "execution_count": 18,
      "outputs": []
    },
    {
      "cell_type": "code",
      "source": [
        "flag = True\n",
        "print(\"Bot: My name is venkat.Lets talk.if you want to exit just say bye\")\n",
        "while(flag==True):\n",
        "  user_resp = input()\n",
        "  user_resp=user_resp.lower()\n",
        "  if(user_resp!='bye'):\n",
        "    if(user_resp=='thanks' or user_resp==\"thank you\"):\n",
        "      flag=False\n",
        "      print(\"Bot: You'r welcome\")\n",
        "    else:\n",
        "      if(greet(user_resp)!=None):\n",
        "        print(\"Bot: \"+greet(user_resp))\n",
        "      else:\n",
        "        sent_tokens.append(user_resp)\n",
        "        word_tokens = word_tokens+nltk.word_tokenize(user_resp)\n",
        "        final_words = list(set(word_tokens))\n",
        "        print(\"Bot :\",end=\"\")\n",
        "        print(response(user_resp))\n",
        "        sent_tokens.remove(user_resp)\n",
        "  else:\n",
        "    flag=False\n",
        "    print(\"Bot :GoodBye, Take care\")"
      ],
      "metadata": {
        "colab": {
          "base_uri": "https://localhost:8080/"
        },
        "id": "hZmeI83gty4G",
        "outputId": "c69645c6-ce70-4fda-b413-f2fea03113f3"
      },
      "execution_count": 23,
      "outputs": [
        {
          "output_type": "stream",
          "name": "stdout",
          "text": [
            "Bot: My name is venkat.Lets talk.if you want to exit just say bye\n",
            "hi\n",
            "Bot: hi\n",
            "bye\n",
            "Bot :GoodBye, Take care\n"
          ]
        }
      ]
    }
  ]
}